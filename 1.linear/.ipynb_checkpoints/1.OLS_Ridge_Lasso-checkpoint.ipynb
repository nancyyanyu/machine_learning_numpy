{
 "cells": [
  {
   "cell_type": "code",
   "execution_count": 338,
   "metadata": {},
   "outputs": [],
   "source": [
    "import pandas as pd\n",
    "import numpy as np\n",
    "import matplotlib.pyplot as plt\n",
    "from sklearn.datasets import load_boston\n",
    "from sklearn.datasets import make_regression\n",
    "from sklearn.model_selection import train_test_split\n",
    "from sklearn.linear_model import LinearRegression\n",
    "\n",
    "X, y, _ = make_regression(\n",
    "    n_samples=50,\n",
    "    n_features=2,\n",
    "    n_informative=1,\n",
    "    n_targets=1,\n",
    "    noise=5,\n",
    "    coef=True,\n",
    "    random_state=1\n",
    ")\n",
    "\n",
    "X_train, X_test, y_train, y_test = train_test_split(\\\n",
    "                X, y, test_size=0.3, random_state=42)\n"
   ]
  },
  {
   "cell_type": "markdown",
   "metadata": {},
   "source": [
    "# OLS Linear Regression \n",
    "$$\n",
    "\\hat{\\beta}=(\\mathbf{X}^T\\mathbf{X})^{-1}\\mathbf{X}^T\\mathbf{y}\n",
    "$$"
   ]
  },
  {
   "cell_type": "code",
   "execution_count": 293,
   "metadata": {},
   "outputs": [],
   "source": [
    "class LinearRegressionNP(object):\n",
    "    \"\"\"\n",
    "    Ordinary least squares Linear Regression.\n",
    "    \n",
    "    LinearRegression fits a linear model by picking the coefficients β =(β_0,β_1,...,β_p)^{T} that\n",
    "    minimize the residual sum of squares (RSS).\n",
    "    \n",
    "    Math: \\hat{\\beta}=(\\mathbf{X}^T\\mathbf{X})^{-1}\\mathbf{X}^T\\mathbf{y}\n",
    "    \n",
    "    Parameters\n",
    "    ----------\n",
    "    fit_intercept : bool, default=True\n",
    "        Whether to calculate the intercept for this model\n",
    "    \n",
    "    \"\"\"\n",
    "    def __init__(self,fit_intercept=True):\n",
    "        self.fit_intercept=fit_intercept\n",
    "        self._beta=None\n",
    "        \n",
    "    def fit(self, X,y):\n",
    "        if self.fit_intercept:\n",
    "            X = np.c_[np.ones(X.shape[0]),X]\n",
    "\n",
    "        # beta\n",
    "        self._beta = np.matmul(np.matmul(np.linalg.pinv(np.matmul(X.T,X)),X.T),y)\n",
    "        \n",
    "        if self.fit_intercept:\n",
    "            self.intercept_ = self._beta[0]\n",
    "            self.coef_ = self._beta[1:]\n",
    "        else:\n",
    "            self.intercept_=0.\n",
    "            self.coef_ = self._beta\n",
    "        \n",
    "    def predict(self,X):\n",
    "        if self.fit_intercept:\n",
    "            X = np.c_[np.ones(X.shape[0]),X]\n",
    "        return np.dot(X,self._beta)\n",
    "    \n",
    "    def score(self,X,y):\n",
    "        y_pred = self.predict(X)\n",
    "        r_sq = 1-((y-y_pred)**2).sum()/((y-y.mean())**2).sum()\n",
    "        return r_sq"
   ]
  },
  {
   "cell_type": "code",
   "execution_count": 294,
   "metadata": {},
   "outputs": [
    {
     "name": "stdout",
     "output_type": "stream",
     "text": [
      "Numpy Implementation of Linear Regression\n",
      "-----------------------\n",
      "Training RSS: 99.53%\n",
      "Testing RSS: 99.44%\n"
     ]
    }
   ],
   "source": [
    "model = LinearRegressionNP()\n",
    "model.fit(X_train,y_train)\n",
    "train_acc = model.score(X_train,y_train)\n",
    "test_acc = model.score(X_test,y_test)\n",
    "print(\"Numpy Implementation of Linear Regression\\n-----------------------\")\n",
    "print(f\"Training RSS: {train_acc:.2%}\")\n",
    "print(f\"Testing RSS: {test_acc:.2%}\")"
   ]
  },
  {
   "cell_type": "code",
   "execution_count": 295,
   "metadata": {},
   "outputs": [
    {
     "name": "stdout",
     "output_type": "stream",
     "text": [
      "sklearn Implementation of Linear Regression\n",
      "-----------------------\n",
      "Training RSS: 99.53%\n",
      "Testing RSS: 99.44%\n"
     ]
    }
   ],
   "source": [
    "from sklearn.linear_model import LinearRegression\n",
    "skl_model = LinearRegression()\n",
    "skl_model.fit(X_train,y_train)\n",
    "skl_train_acc = skl_model.score(X_train,y_train)\n",
    "skl_test_acc = skl_model.score(X_test,y_test)\n",
    "print(\"sklearn Implementation of Linear Regression\\n-----------------------\")\n",
    "print(f\"Training RSS: {skl_train_acc:.2%}\")\n",
    "print(f\"Testing RSS: {skl_test_acc:.2%}\")"
   ]
  },
  {
   "cell_type": "markdown",
   "metadata": {},
   "source": [
    "# Ridge Regression "
   ]
  },
  {
   "cell_type": "markdown",
   "metadata": {},
   "source": [
    "$$\\hat{\\beta} =\n",
    "                \\left(\\mathbf{X}^\\top \\mathbf{X} + \\lambda \\mathbf{I} \\right)^{-1}\n",
    "                    \\mathbf{X}^\\top \\mathbf{y} $$"
   ]
  },
  {
   "cell_type": "code",
   "execution_count": 296,
   "metadata": {},
   "outputs": [],
   "source": [
    "class RidgeRegression(object):\n",
    "    \n",
    "    \n",
    "    def __init__(self,lmbda,fit_intercept=True):\n",
    "        self.lmbda = lmbda\n",
    "        self.fit_intercept=fit_intercept\n",
    "        self._beta=None\n",
    "        \n",
    "    \n",
    "    def fit(self,X,y):\n",
    "        if self.fit_intercept:\n",
    "            X = np.c_[np.ones(X.shape[0]),X]\n",
    "        p = X.shape[1]\n",
    "        self._beta = np.linalg.pinv(np.matmul(X.T,X)+self.lmbda*np.eye(p)).dot(X.T).dot(y)\n",
    "        \n",
    "        if self.fit_intercept:\n",
    "            self.intercept_ = self._beta[0]\n",
    "            self.coef_ = self._beta[1:]\n",
    "        else:\n",
    "            self.intercept_=0.\n",
    "            self.coef_ = self._beta\n",
    "    \n",
    "    def predict(self,X):\n",
    "        if self.fit_intercept:\n",
    "            X = np.c_[np.ones(X.shape[0]),X]\n",
    "        return np.dot(X,self._beta)\n",
    "\n",
    "    def score(self,X,y):\n",
    "        y_pred = self.predict(X)\n",
    "        rss = ((y-y_pred)**2).sum()\n",
    "        tss = ((y-y.mean())**2).sum()\n",
    "        r_sq = 1-rss/tss\n",
    "        return r_sq"
   ]
  },
  {
   "cell_type": "code",
   "execution_count": 297,
   "metadata": {},
   "outputs": [
    {
     "name": "stdout",
     "output_type": "stream",
     "text": [
      "Numpy Implementation of Ridge Regression\n",
      "-----------------------\n",
      "Training RSS: 99.28%\n",
      "Testing RSS: 98.88%\n"
     ]
    }
   ],
   "source": [
    "model = RidgeRegression(1.)\n",
    "model.fit(X_train,y_train)\n",
    "train_acc = model.score(X_train,y_train)\n",
    "test_acc = model.score(X_test,y_test)\n",
    "print(\"Numpy Implementation of Ridge Regression\\n-----------------------\")\n",
    "print(f\"Training RSS: {train_acc:.2%}\")\n",
    "print(f\"Testing RSS: {test_acc:.2%}\")"
   ]
  },
  {
   "cell_type": "code",
   "execution_count": 298,
   "metadata": {},
   "outputs": [
    {
     "name": "stdout",
     "output_type": "stream",
     "text": [
      "sklearn Implementation of Ridge Regression\n",
      "-----------------------\n",
      "Training RSS: 99.27%\n",
      "Testing RSS: 98.87%\n"
     ]
    }
   ],
   "source": [
    "from sklearn.linear_model import Ridge\n",
    "skl_model = Ridge(1.)\n",
    "skl_model.fit(X_train,y_train)\n",
    "skl_train_acc = skl_model.score(X_train,y_train)\n",
    "skl_test_acc = skl_model.score(X_test,y_test)\n",
    "print(\"sklearn Implementation of Ridge Regression\\n-----------------------\")\n",
    "print(f\"Training RSS: {skl_train_acc:.2%}\")\n",
    "print(f\"Testing RSS: {skl_test_acc:.2%}\")"
   ]
  },
  {
   "cell_type": "markdown",
   "metadata": {},
   "source": [
    "# Lasso\n",
    "**Coordinate descent update rule:**\n",
    "\n",
    "Repeat until convergence or max number of iterations:\n",
    "\n",
    "- For $j=0,1,...,n$\n",
    "- Compute $ρ_j = \\sum_{i=1}^nx_{ij}\\left( y_i-\\sum_{k\\neq j}^px_{ik}\\beta_k \\right)= \\sum_{i=1}^nx_{ij}\\left( y_i-\\hat{y}_i^{pred}+x_{ij}\\beta_j \\right)=\\mathbf{x}_j^T(\\mathbf{y}-\\hat{\\mathbf{y}}^{pred}+\\mathbf{x}_j\\beta_j )$\n",
    "- Compute $z_j =\\sum_{i=1}^nx_{ij}^2$\n",
    "- Set $\\beta_j=\\frac{1}{z_j}S(\\rho_j,\\lambda)$\n"
   ]
  },
  {
   "cell_type": "code",
   "execution_count": 392,
   "metadata": {},
   "outputs": [],
   "source": [
    "class LassoRegression(object):\n",
    "    \"\"\"Linear Model trained with L1 prior as regularizer (aka the Lasso)\n",
    "\n",
    "    Parameters\n",
    "    ----------\n",
    "    lmbda : float, default=1.0\n",
    "        Constant that multiplies the L1 term. Defaults to 1.0.\n",
    "    fit_intercept : bool, default=True\n",
    "        Whether to calculate the intercept for this model. \n",
    "    max_iter : int, default=1000\n",
    "        The maximum number of iterations.\n",
    "    tol : float, default=1e-4\n",
    "        The tolerance for the optimization.\n",
    "        \n",
    "    Notes\n",
    "    -----\n",
    "    The algorithm used to fit the model is coordinate descent.\n",
    "    \"\"\"\n",
    "    def __init__(self,lmbda,fit_intercept=True,max_iter=1000,tol=1e-4):\n",
    "        \n",
    "        self.lmbda = lmbda\n",
    "        self.fit_intercept=fit_intercept\n",
    "        self.max_iter=max_iter\n",
    "        self.tol = tol\n",
    "        \n",
    "    def soft_threshold(self,rho):\n",
    "        if rho<-1*self.lmbda:\n",
    "            return rho+self.lmbda\n",
    "        if rho>self.lmbda:\n",
    "            return rho-self.lmbda\n",
    "        return 0\n",
    "\n",
    "    def z_compute(self,X):\n",
    "        return np.sum(X*X,axis=0)\n",
    "        \n",
    "    def fit(self,X,y):\n",
    "        if self.fit_intercept:\n",
    "            X = np.c_[np.ones(X.shape[0]),X]\n",
    "        \n",
    "        self.z = self.z_compute(X)\n",
    "        \n",
    "        n,p=X.shape\n",
    "        self._beta = np.zeros(p)\n",
    "        old_beta = self._beta.copy()\n",
    "        for _ in range(self.max_iter):\n",
    "            for j in range(p):\n",
    "\n",
    "                rho_j = X[:,j].dot(y-X.dot(self._beta)+X[:,j]*self._beta[j])\n",
    "                \n",
    "                \n",
    "                if self.fit_intercept:\n",
    "                    if j==0:\n",
    "                    #Intercept is not included with the alpha regularisation\n",
    "                        self._beta[j]=rho_j/self.z[j]\n",
    "                    else:\n",
    "                        self._beta[j] = self.soft_threshold(rho_j)/self.z[j]\n",
    "                else:\n",
    "                    self._beta[j] = self.soft_threshold(rho_j)/self.z[j]\n",
    "        \n",
    "            step_size = abs(old_beta-self._beta)\n",
    "            if max(step_size)<self.tol:\n",
    "                break\n",
    "        \n",
    "        if self.fit_intercept:\n",
    "            self.intercept_ = self._beta[0]\n",
    "            self.coef_ = self._beta[1:]\n",
    "        else:\n",
    "            self.intercept_=0.\n",
    "            self.coef_ = self._beta\n",
    "            \n",
    "    def predict(self,X):\n",
    "        if self.fit_intercept:\n",
    "            X = np.c_[np.ones(X.shape[0]),X]\n",
    "        return np.dot(X,self._beta)\n",
    "        \n",
    "    def score(self,X,y):\n",
    "        y_pred = self.predict(X)\n",
    "        rss = ((y-y_pred)**2).sum()\n",
    "        tss = ((y-y.mean())**2).sum()\n",
    "        r_sq = 1-rss/tss\n",
    "        return r_sq"
   ]
  },
  {
   "cell_type": "code",
   "execution_count": 403,
   "metadata": {},
   "outputs": [
    {
     "name": "stdout",
     "output_type": "stream",
     "text": [
      "Numpy Implementation of Lasso Regression\n",
      "-----------------------\n",
      "Training RSS: 99.53%\n",
      "Testing RSS: 99.44%\n"
     ]
    }
   ],
   "source": [
    "model = LassoRegression(lmbda = 0.1, tol = 0.0001)\n",
    "model.fit(X_train,y_train)\n",
    "train_acc = model.score(X_train,y_train)\n",
    "test_acc = model.score(X_test,y_test)\n",
    "print(\"Numpy Implementation of Lasso Regression\\n-----------------------\")\n",
    "print(f\"Training RSS: {train_acc:.2%}\")\n",
    "print(f\"Testing RSS: {test_acc:.2%}\")"
   ]
  },
  {
   "cell_type": "code",
   "execution_count": 404,
   "metadata": {},
   "outputs": [
    {
     "name": "stdout",
     "output_type": "stream",
     "text": [
      "sklearn Implementation of Ridge Regression\n",
      "-----------------------\n",
      "Training RSS: 99.53%\n",
      "Testing RSS: 99.43%\n"
     ]
    }
   ],
   "source": [
    "from sklearn import linear_model\n",
    "skl_model = linear_model.Lasso(alpha = 0.1, tol = 0.0001)\n",
    "skl_model.fit(X_train,y_train)\n",
    "skl_train_acc = skl_model.score(X_train,y_train)\n",
    "skl_test_acc = skl_model.score(X_test,y_test)\n",
    "print(\"sklearn Implementation of Ridge Regression\\n-----------------------\")\n",
    "print(f\"Training RSS: {skl_train_acc:.2%}\")\n",
    "print(f\"Testing RSS: {skl_test_acc:.2%}\")"
   ]
  },
  {
   "cell_type": "code",
   "execution_count": null,
   "metadata": {},
   "outputs": [],
   "source": []
  }
 ],
 "metadata": {
  "kernelspec": {
   "display_name": "Python 3",
   "language": "python",
   "name": "python3"
  },
  "language_info": {
   "codemirror_mode": {
    "name": "ipython",
    "version": 3
   },
   "file_extension": ".py",
   "mimetype": "text/x-python",
   "name": "python",
   "nbconvert_exporter": "python",
   "pygments_lexer": "ipython3",
   "version": "3.7.3"
  },
  "toc": {
   "base_numbering": 1,
   "nav_menu": {},
   "number_sections": true,
   "sideBar": true,
   "skip_h1_title": false,
   "title_cell": "Table of Contents",
   "title_sidebar": "Contents",
   "toc_cell": false,
   "toc_position": {
    "height": "calc(100% - 180px)",
    "left": "10px",
    "top": "150px",
    "width": "288px"
   },
   "toc_section_display": true,
   "toc_window_display": false
  },
  "varInspector": {
   "cols": {
    "lenName": 16,
    "lenType": 16,
    "lenVar": 40
   },
   "kernels_config": {
    "python": {
     "delete_cmd_postfix": "",
     "delete_cmd_prefix": "del ",
     "library": "var_list.py",
     "varRefreshCmd": "print(var_dic_list())"
    },
    "r": {
     "delete_cmd_postfix": ") ",
     "delete_cmd_prefix": "rm(",
     "library": "var_list.r",
     "varRefreshCmd": "cat(var_dic_list()) "
    }
   },
   "types_to_exclude": [
    "module",
    "function",
    "builtin_function_or_method",
    "instance",
    "_Feature"
   ],
   "window_display": false
  }
 },
 "nbformat": 4,
 "nbformat_minor": 2
}
